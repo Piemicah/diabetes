{
 "cells": [
  {
   "cell_type": "code",
   "execution_count": 1,
   "id": "5c76c52d-180d-4c05-b2c9-556ac81d1aec",
   "metadata": {
    "tags": []
   },
   "outputs": [],
   "source": [
    "import joblib\n",
    "import sys\n",
    "from PyQt5 import QtWidgets, uic\n",
    "from PyQt5.QtWidgets import *"
   ]
  },
  {
   "cell_type": "code",
   "execution_count": 2,
   "id": "746970af-f855-4f03-bfad-7cb4d148e3f0",
   "metadata": {
    "tags": []
   },
   "outputs": [],
   "source": [
    "model = joblib.load('diabetes_predictor.joblib')"
   ]
  },
  {
   "cell_type": "code",
   "execution_count": 3,
   "id": "da81267b-e456-4e49-9495-ab4c16dd41b6",
   "metadata": {
    "tags": []
   },
   "outputs": [],
   "source": [
    "def predict(a):\n",
    "    r=model.predict(a)\n",
    "    if r[0]==1: return 'Diabetic'\n",
    "    else: return 'Non Diabetic'"
   ]
  },
  {
   "cell_type": "code",
   "execution_count": 4,
   "id": "06d505cc-9e56-4072-9ea4-9bd64aa53e5f",
   "metadata": {
    "tags": []
   },
   "outputs": [],
   "source": [
    "def predictHandler():\n",
    "    preg=window.pregEdit.text()\n",
    "    glu=window.glucoseEdit.text()\n",
    "    blood=window.bloodEdit.text()\n",
    "    skin=window.skinEdit.text()\n",
    "    pfunc=window.pfuncEdit.text()\n",
    "    bmi=window.bmiEdit.text()\n",
    "    insulin=window.insulinEdit.text()\n",
    "    age=window.ageEdit.text()\n",
    "    try:\n",
    "        p=predict([[preg,glu,blood,skin,insulin,bmi,pfunc,age]])\n",
    "        result=window.resultLabel.setText(p)\n",
    "    except:\n",
    "        msg = QMessageBox()\n",
    "        msg.setIcon(QMessageBox.Critical)\n",
    "        msg.setText(\"Wrong value has been entered\")\n",
    "        msg.setWindowTitle(\"Error\")\n",
    "        msg.exec_()"
   ]
  },
  {
   "cell_type": "code",
   "execution_count": 5,
   "id": "356e597e-49f9-4af2-a42a-23725c0f2bf7",
   "metadata": {
    "tags": []
   },
   "outputs": [
    {
     "data": {
      "text/plain": [
       "<PyQt5.QtCore.QMetaObject.Connection at 0x255511badc0>"
      ]
     },
     "execution_count": 5,
     "metadata": {},
     "output_type": "execute_result"
    }
   ],
   "source": [
    "app = QtWidgets.QApplication(sys.argv)\n",
    "window = uic.loadUi(\"diabetes.ui\")\n",
    "window.setFixedSize(820,650)\n",
    "window.btnPredict.clicked.connect(predictHandler)"
   ]
  },
  {
   "cell_type": "code",
   "execution_count": 6,
   "id": "356f88c1-fa19-410e-a95b-356c13c7be22",
   "metadata": {
    "tags": []
   },
   "outputs": [
    {
     "name": "stderr",
     "output_type": "stream",
     "text": [
      "C:\\Users\\Piemicah\\anaconda3\\Lib\\site-packages\\sklearn\\base.py:464: UserWarning: X does not have valid feature names, but DecisionTreeClassifier was fitted with feature names\n",
      "  warnings.warn(\n"
     ]
    },
    {
     "data": {
      "text/plain": [
       "0"
      ]
     },
     "execution_count": 6,
     "metadata": {},
     "output_type": "execute_result"
    }
   ],
   "source": [
    "window.show()\n",
    "app.exec_()"
   ]
  },
  {
   "cell_type": "code",
   "execution_count": null,
   "id": "80ee11f4-a280-4236-be1e-bbbc8cf93713",
   "metadata": {},
   "outputs": [],
   "source": []
  }
 ],
 "metadata": {
  "kernelspec": {
   "display_name": "Python 3 (ipykernel)",
   "language": "python",
   "name": "python3"
  },
  "language_info": {
   "codemirror_mode": {
    "name": "ipython",
    "version": 3
   },
   "file_extension": ".py",
   "mimetype": "text/x-python",
   "name": "python",
   "nbconvert_exporter": "python",
   "pygments_lexer": "ipython3",
   "version": "3.11.4"
  }
 },
 "nbformat": 4,
 "nbformat_minor": 5
}
